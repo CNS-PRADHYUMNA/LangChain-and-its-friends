{
 "cells": [
  {
   "cell_type": "code",
   "execution_count": 15,
   "id": "f2d5f54f",
   "metadata": {},
   "outputs": [],
   "source": [
    "from dotenv import load_dotenv\n",
    "import os\n",
    "\n",
    "load_dotenv()\n",
    "PINECONE_API_KEY = os.getenv('PINECONE_API_KEY')\n",
    "os.environ['HF_TOKEN'] = os.getenv('HF_TOKEN')\n",
    "\n"
   ]
  },
  {
   "cell_type": "code",
   "execution_count": 16,
   "id": "226ade78",
   "metadata": {},
   "outputs": [],
   "source": [
    "from langchain_community.retrievers import PineconeHybridSearchRetriever"
   ]
  },
  {
   "cell_type": "code",
   "execution_count": 17,
   "id": "d9cb7b7c",
   "metadata": {},
   "outputs": [],
   "source": [
    "from pinecone import Pinecone, ServerlessSpec\n",
    "index_name=\"hybrid-search-langchain-pinecone\"\n",
    "\n",
    "pc=Pinecone(api_key=PINECONE_API_KEY)\n",
    "\n",
    "if index_name not in pc.list_indexes().names():\n",
    "    pc.create_index(\n",
    "        name=index_name,\n",
    "        dimension=384,\n",
    "        metric=\"dotproduct\",\n",
    "        spec=ServerlessSpec(cloud=\"aws\", region=\"us-east-1\")\n",
    "    )\n"
   ]
  },
  {
   "cell_type": "code",
   "execution_count": 18,
   "id": "0e6775ed",
   "metadata": {},
   "outputs": [
    {
     "name": "stderr",
     "output_type": "stream",
     "text": [
      "c:\\Users\\chris\\OneDrive\\Desktop\\Gen-ai\\Langchain\\Hybrid Search\\nevn\\lib\\site-packages\\tqdm\\auto.py:21: TqdmWarning: IProgress not found. Please update jupyter and ipywidgets. See https://ipywidgets.readthedocs.io/en/stable/user_install.html\n",
      "  from .autonotebook import tqdm as notebook_tqdm\n",
      "Xet Storage is enabled for this repo, but the 'hf_xet' package is not installed. Falling back to regular HTTP download. For better performance, install the package with: `pip install huggingface_hub[hf_xet]` or `pip install hf_xet`\n"
     ]
    }
   ],
   "source": [
    "# from langchain_community.embeddings import OllamaEmbeddings\n",
    "\n",
    "# embeddings = OllamaEmbeddings(\n",
    "#     model=\"all-minilm\"\n",
    "# )\n",
    "\n",
    "# embeddings\n",
    "\n",
    "from langchain_huggingface import HuggingFaceEmbeddings\n",
    "embeddings=HuggingFaceEmbeddings(model_name=\"all-MiniLM-L6-v2\")"
   ]
  },
  {
   "cell_type": "code",
   "execution_count": 19,
   "id": "722333e5",
   "metadata": {},
   "outputs": [
    {
     "data": {
      "text/plain": [
       "HuggingFaceEmbeddings(model_name='all-MiniLM-L6-v2', cache_folder=None, model_kwargs={}, encode_kwargs={}, query_encode_kwargs={}, multi_process=False, show_progress=False)"
      ]
     },
     "execution_count": 19,
     "metadata": {},
     "output_type": "execute_result"
    }
   ],
   "source": [
    "embeddings"
   ]
  },
  {
   "cell_type": "code",
   "execution_count": 20,
   "id": "9d31d359",
   "metadata": {},
   "outputs": [],
   "source": [
    "from pinecone_text.sparse import BM25Encoder\n",
    "\n",
    "bm25=BM25Encoder().default()\n"
   ]
  },
  {
   "cell_type": "code",
   "execution_count": null,
   "id": "83b24377",
   "metadata": {},
   "outputs": [],
   "source": [
    "sentences = [\n",
    "    \"The quick brown fox jumps over the lazy dog\",\n",
    "    \"In 2024, I visited New Orleans and enjoyed the jazz music on Bourbon Street late into the night.\",\n",
    "    \"The sun is shining in the sky, but rain clouds are gathering over the distant mountains.\",\n",
    "    \"In 2025, I am going to visit New York to attend a major artificial intelligence conference.\",\n",
    "    \"Quantum computing has the potential to revolutionize cryptography by solving problems intractable for classical computers.\",\n",
    "    \"Although the economy showed signs of recovery, inflationary pressures remained a significant concern for policymakers.\",\n",
    "    \"During the medieval period, manuscripts were painstakingly copied by hand in monasteries before the invention of the printing press.\",\n",
    "    \"Climate change is expected to intensify the frequency of extreme weather events such as hurricanes, droughts, and heat waves.\",\n",
    "    \"The spacecraft successfully entered Mars’ orbit, sending back high-resolution images of the planet’s surface.\",\n",
    "    \"Philosophers have debated for centuries whether free will truly exists or whether our actions are determined by prior causes.\",\n",
    "    \"Machine learning models often require large datasets to generalize effectively and avoid overfitting to training examples.\",\n",
    "    \"Despite the protagonist’s flaws, the novel portrays her journey of self-discovery with remarkable depth and nuance.\"\n",
    "]\n"
   ]
  },
  {
   "cell_type": "code",
   "execution_count": 35,
   "id": "62c28763",
   "metadata": {},
   "outputs": [
    {
     "name": "stderr",
     "output_type": "stream",
     "text": [
      "100%|██████████| 4/4 [00:00<00:00, 3996.48it/s]\n"
     ]
    }
   ],
   "source": [
    "\n",
    "\n",
    "bm25.fit(sentences)\n",
    "bm25.dump(\"b25_vals.json\")\n",
    "\n",
    "bm25=BM25Encoder().load(\"b25_vals.json\")\n"
   ]
  },
  {
   "cell_type": "code",
   "execution_count": 36,
   "id": "cbfe3927",
   "metadata": {},
   "outputs": [
    {
     "data": {
      "text/plain": [
       "PineconeHybridSearchRetriever(embeddings=HuggingFaceEmbeddings(model_name='all-MiniLM-L6-v2', cache_folder=None, model_kwargs={}, encode_kwargs={}, query_encode_kwargs={}, multi_process=False, show_progress=False), sparse_encoder=<pinecone_text.sparse.bm25_encoder.BM25Encoder object at 0x000001AB020EE0B0>, index=<pinecone.db_data.index.Index object at 0x000001AB020EE5F0>)"
      ]
     },
     "execution_count": 36,
     "metadata": {},
     "output_type": "execute_result"
    }
   ],
   "source": [
    "index = pc.Index(index_name)\n",
    "retriver=PineconeHybridSearchRetriever(\n",
    "    embeddings=embeddings,\n",
    "    sparse_encoder=bm25,\n",
    "    index=index\n",
    ")\n",
    "\n",
    "retriver"
   ]
  },
  {
   "cell_type": "code",
   "execution_count": 37,
   "id": "caa21379",
   "metadata": {},
   "outputs": [
    {
     "name": "stderr",
     "output_type": "stream",
     "text": [
      "100%|██████████| 1/1 [00:01<00:00,  1.25s/it]\n"
     ]
    }
   ],
   "source": [
    "retriver.add_texts(sentences)"
   ]
  },
  {
   "cell_type": "code",
   "execution_count": null,
   "id": "efdee495",
   "metadata": {},
   "outputs": [
    {
     "ename": "TypeError",
     "evalue": "string indices must be integers",
     "output_type": "error",
     "traceback": [
      "\u001b[1;31m---------------------------------------------------------------------------\u001b[0m",
      "\u001b[1;31mTypeError\u001b[0m                                 Traceback (most recent call last)",
      "Cell \u001b[1;32mIn[39], line 11\u001b[0m\n\u001b[0;32m      1\u001b[0m test_queries \u001b[38;5;241m=\u001b[39m [\n\u001b[0;32m      2\u001b[0m     \u001b[38;5;124m\"\u001b[39m\u001b[38;5;124mWhich city did I visit in 2025?\u001b[39m\u001b[38;5;124m\"\u001b[39m,\n\u001b[0;32m      3\u001b[0m     \u001b[38;5;124m\"\u001b[39m\u001b[38;5;124mWhere am I planning to travel for an AI event?\u001b[39m\u001b[38;5;124m\"\u001b[39m,\n\u001b[1;32m   (...)\u001b[0m\n\u001b[0;32m      7\u001b[0m     \u001b[38;5;124m\"\u001b[39m\u001b[38;5;124mWhich events are linked to climate change in the text?\u001b[39m\u001b[38;5;124m\"\u001b[39m\n\u001b[0;32m      8\u001b[0m ]\n\u001b[0;32m     10\u001b[0m \u001b[38;5;28;01mfor\u001b[39;00m i \u001b[38;5;129;01min\u001b[39;00m test_queries:\n\u001b[1;32m---> 11\u001b[0m     \u001b[38;5;28mprint\u001b[39m(retriver\u001b[38;5;241m.\u001b[39minvoke(\u001b[43mi\u001b[49m\u001b[43m[\u001b[49m\u001b[38;5;124;43m\"\u001b[39;49m\u001b[38;5;124;43mpage_content\u001b[39;49m\u001b[38;5;124;43m\"\u001b[39;49m\u001b[43m]\u001b[49m))\n",
      "\u001b[1;31mTypeError\u001b[0m: string indices must be integers"
     ]
    }
   ],
   "source": [
    "test_queries = [\n",
    "    \"Which city did I visit in 2025?\",\n",
    "    \"Where am I planning to travel for an AI event?\",\n",
    "    \"What type of music is popular in New Orleans?\",\n",
    "    \"Which technology could disrupt cryptography?\",\n",
    "    \"What do philosophers debate about free will?\",\n",
    "    \"Which events are linked to climate change in the text?\"\n",
    "]\n",
    "\n",
    "for i in test_queries:\n",
    "    print(retriver.invoke(i))\n"
   ]
  }
 ],
 "metadata": {
  "kernelspec": {
   "display_name": "Python 3",
   "language": "python",
   "name": "python3"
  },
  "language_info": {
   "codemirror_mode": {
    "name": "ipython",
    "version": 3
   },
   "file_extension": ".py",
   "mimetype": "text/x-python",
   "name": "python",
   "nbconvert_exporter": "python",
   "pygments_lexer": "ipython3",
   "version": "3.10.0"
  }
 },
 "nbformat": 4,
 "nbformat_minor": 5
}
