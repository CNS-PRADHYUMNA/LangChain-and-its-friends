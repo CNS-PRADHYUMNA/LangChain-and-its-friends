{
 "cells": [
  {
   "cell_type": "code",
   "execution_count": null,
   "id": "122aec3e",
   "metadata": {},
   "outputs": [],
   "source": [
    "Grok=\"\"\n"
   ]
  },
  {
   "cell_type": "code",
   "execution_count": 3,
   "id": "93e102c7",
   "metadata": {},
   "outputs": [],
   "source": [
    "# call llm model\n",
    "from langchain_groq import ChatGroq\n",
    "\n",
    "model=ChatGroq(model=\"gemma2-9b-it\", api_key=Grok)\n"
   ]
  },
  {
   "cell_type": "code",
   "execution_count": 4,
   "id": "9c8b8f9a",
   "metadata": {},
   "outputs": [],
   "source": [
    "from langchain_core.messages import HumanMessage,SystemMessage,AIMessage\n",
    "from langchain_community.chat_message_histories import ChatMessageHistory\n",
    "from langchain_core.chat_history import BaseChatMessageHistory\n",
    "from langchain_core.runnables.history import RunnableWithMessageHistory\n",
    "\n",
    "store={}\n",
    "\n",
    "def get_session_history(session_id:str)->BaseChatMessageHistory:\n",
    "    if session_id not in store:\n",
    "        store[session_id]=ChatMessageHistory()\n",
    "    return store[session_id]\n",
    "\n",
    "\n",
    "with_msg_history=RunnableWithMessageHistory(model, get_session_history)\n"
   ]
  },
  {
   "cell_type": "code",
   "execution_count": 5,
   "id": "6a8bef70",
   "metadata": {},
   "outputs": [],
   "source": [
    "config={\n",
    "    \"configurable\":{\"session_id\":\"chat1\"}\n",
    "}"
   ]
  },
  {
   "cell_type": "code",
   "execution_count": null,
   "id": "4dcdeb2f",
   "metadata": {},
   "outputs": [
    {
     "name": "stdout",
     "output_type": "stream",
     "text": [
      "Greetings, Itachi. \n",
      "\n",
      "A powerful name, spoken with respect throughout the shinobi world. \n",
      "\n",
      "What brings you to speak with me, fellow ninja? Do you seek training advice, wish to discuss tactics, or perhaps just share a moment of camaraderie?\n",
      "\n",
      "Tell me, Itachi, what is on your mind? \n",
      "\n",
      "\n"
     ]
    }
   ],
   "source": [
    "res = with_msg_history.invoke(\n",
    "    [HumanMessage(content=\"My name is itachi and i am a ninja\")],\n",
    "    config= config\n",
    ")\n",
    "\n",
    "print(res.content)"
   ]
  },
  {
   "cell_type": "code",
   "execution_count": 6,
   "id": "13e4b5af",
   "metadata": {},
   "outputs": [
    {
     "name": "stdout",
     "output_type": "stream",
     "text": [
      "{}\n"
     ]
    }
   ],
   "source": [
    "print(store)"
   ]
  },
  {
   "cell_type": "code",
   "execution_count": 9,
   "id": "5bd06fd2",
   "metadata": {},
   "outputs": [],
   "source": [
    "from langchain_core .prompts import ChatPromptTemplate,MessagesPlaceholder\n",
    "\n",
    "prompt=ChatPromptTemplate.from_messages(\n",
    "    [\n",
    "        (\"system\", \"You are the best gym trainer in the world and your job is to give accurate gym schedule for any day of the week. based on my question. {prev_gym_session}\"),\n",
    "        MessagesPlaceholder(variable_name=\"history\"),\n",
    "    ]\n",
    ")\n",
    "\n",
    "chain=prompt | model"
   ]
  },
  {
   "cell_type": "code",
   "execution_count": 10,
   "id": "6465a401",
   "metadata": {},
   "outputs": [
    {
     "name": "stdout",
     "output_type": "stream",
     "text": [
      "Alright Zeus, impressive work so far!  I've analyzed your previous sessions and tailored a plan for the next week to ensure continued progress with a focus on balanced muscle development and recovery.  \n",
      "\n",
      "**Monday – Legs + Core**\n",
      "\n",
      "* **Quads:**\n",
      "    * Barbell Back Squat – 45kg × 2 × 6\n",
      "    * Leg Press – 70kg × 2 × 8\n",
      "* **Hamstrings & Glutes:**\n",
      "    * Romanian Deadlift – 25kg × 2 × 8\n",
      "    * Glute Bridge – Bodyweight × 3 × 15\n",
      "* **Calves:**\n",
      "    * Standing Calf Raise – Bodyweight × 3 × 15\n",
      "    * Seated Calf Raise – 25kg × 2 × 12\n",
      "* **Core:**\n",
      "    * Plank – 3 sets x 30 seconds hold\n",
      "    * Russian Twists – 3 sets x 15 each side\n",
      "\n",
      "**Tuesday –  Chest + Back A (Restore & Recover)**\n",
      "\n",
      "* **Chest:**\n",
      "    * Incline Dumbbell Press – 17.5kg × 2 × 8\n",
      "    * Flat Dumbbell Press – 20kg × 2 × 8\n",
      "    * Cable Flyes (High) – 12.5kg × 2 × 12\n",
      "* **Back:**\n",
      "    * Lat Pulldown – 45kg × 2 × 10\n",
      "    * Seated Cable Row – 30kg × 2 × 10\n",
      "    * Face Pulls – 45kg × 2 × 12\n",
      "\n",
      "**Wednesday – Shoulders + Arms B**\n",
      "\n",
      "* **Shoulders:**\n",
      "    * Machine Shoulder Press – 20kg × 2 × 10\n",
      "    * Lateral Raises – 7.5kg × 2 × 12\n",
      "    * Front Raises – 7.5kg × 2 × 12\n",
      "* **Biceps:**\n",
      "    * Hammer Curl – 12.5kg × 2 × 10\n",
      "    *Concentration Curl – 10kg × 2 × 10\n",
      "* **Triceps:**\n",
      "    *  Triceps Pushdown – 35kg × 2 × 10\n",
      "    *  Overhead Triceps Extension – 20kg × 2 × 10\n",
      "\n",
      "**Thursday – Rest or Active Recovery**\n",
      "\n",
      "*  Focus on light cardio (walking, swimming, cycling)\n",
      "*  Stretching and mobility work\n",
      "\n",
      "**Friday – Chest + Back B**\n",
      "\n",
      "* **Chest:**\n",
      "    * Smith Incline Press – 20kg/side × 2 × 8\n",
      "    * Machine Chest Press – 30kg/side × 2 × 8\n",
      "    * Incline Dumbbell Flyes – 10kg × 2 × 12\n",
      "* **Back:**\n",
      "    * T-Bar Row – 30kg × 2 × 8\n",
      "    * Lat Pulldown – 45kg × 2 × 8\n",
      "    * Single Arm Pullover – 20kg × 2 × 10\n",
      "\n",
      "\n",
      "\n",
      "Remember, proper form is crucial to prevent injuries. Don't hesitate to ask a gym staff member for assistance if needed. \n",
      "\n"
     ]
    }
   ],
   "source": [
    "# chain.invoke({\"history\":[HumanMessage(content=\"What is the gym schedule for Monday?\")]})\n",
    "config={\n",
    "    \"configurable\":{\"session_id\":\"chat1\"}\n",
    "}\n",
    "with_msg_history=RunnableWithMessageHistory(chain, get_session_history,input_messages_key=\"history\")\n",
    "\n",
    "prev_sess=\"\"\"\"\n",
    "Monday – Chest + Back A (Restore & Recover)\n",
    "Chest\n",
    "Incline DB Press – 17.5kg × 2 × 8\n",
    "Flat DB Press – 20kg × 2 × 8\n",
    "Pec Deck – 45kg × 2 × 10\n",
    "\n",
    "Back\n",
    "Lat Pulldown – 45kg × 2 × 10\n",
    "Seated Row Machine – 25kg × 2 × 10\n",
    "Cable Pullover – 25kg × 2 × 12\n",
    "\n",
    "\n",
    "Tuesday – Shoulders + Arms A\n",
    "Shoulders\n",
    "DB Shoulder Press – 12.5kg × 2 × 10\n",
    "Lateral Raise – 7.5kg × 2 × 12\n",
    "Face Pull – 45kg × 2 × 12\n",
    "\n",
    "Biceps\n",
    "Incline Curl – 10kg × 2 × 10\n",
    "Barbell Curl – 7.5kg/side × 2 × 8\n",
    "Reverse Curl – 5kg/side × 2 × 10\n",
    "\n",
    "Triceps\n",
    "Overhead DB Extension – 20kg × 2 × 10\n",
    "Cable Pushdown – 35kg × 2 × 10\n",
    "\n",
    "\n",
    "Wednesday – Legs + Core\n",
    "Quads\n",
    "Barbell Squat – 45kg × 2 × 6\n",
    "Leg Extension – 40kg × 2 × 10\n",
    "\n",
    "Hamstrings\n",
    "Seated Ham Curl – 30kg × 2 × 10\n",
    "Smith RDL – 20kg/side × 2 × 10\n",
    "\n",
    "Calves\n",
    "Seated Calf Raise – 25kg × 2 × 12\n",
    "\n",
    "Core\n",
    "Cable Crunch – 30kg × 2 × 15\n",
    "Hanging Leg Raise – 2 sets x 12\n",
    "Back Extensions – Bodyweight × 15, 15\n",
    "\n",
    "\n",
    "Thursday – Chest + Back B\n",
    "Chest\n",
    "Smith Incline Press – 20kg/side × 2 × 8\n",
    "Machine Chest Press – 30kg/side × 2 × 8\n",
    "Cable Fly (mid-low) – 10kg × 2 × 12\n",
    "\n",
    "Back\n",
    "T-Bar Row – 30kg × 2 × 8\n",
    "Lat Pulldown – 45kg × 2 × 8\n",
    "Single Arm Pullover – 20kg × 2 × 10\n",
    "\n",
    "\n",
    "Friday – Shoulders + Arms B\n",
    "Shoulders\n",
    "Machine Shoulder Press – 20kg × 2 × 10\n",
    "\n",
    "Reverse Pec Deck – 40kg × 2 × 12\n",
    "DB Shrugs – 30kg × 2 × 10\n",
    "\n",
    "Biceps\n",
    "Cable Curl – 40kg × 2 × 10\n",
    "Preacher Curl – 30kg × 2 × 10\n",
    "\n",
    "Triceps\n",
    "Skull Crushers – 5kg/side × 2 × 10\n",
    "Rope Pushdowns – 40kg × 2 × 10\n",
    "\n",
    "\"\"\"\n",
    "\n",
    "\n",
    "res = with_msg_history.invoke(\n",
    "    {\"history\":[HumanMessage(content=\"My name is Zeus, here are my previous gym sessions based on them give for the next week that is from monday to friday in similar way!!\")],\"prev_gym_session\":prev_sess },\n",
    "    config=config\n",
    ")\n",
    "\n",
    "\n",
    "print(res.content)"
   ]
  },
  {
   "cell_type": "code",
   "execution_count": 13,
   "id": "87dd04e0",
   "metadata": {},
   "outputs": [],
   "source": [
    "from langchain_core.messages import SystemMessage,trim_messages\n",
    "\n",
    "trimmer=trim_messages(max_token=70,strategy=\"truncate\",include_system=True,all_partial=False,starts_on=\"human\")"
   ]
  },
  {
   "cell_type": "code",
   "execution_count": null,
   "id": "f580b600",
   "metadata": {},
   "outputs": [],
   "source": [
    "# hf_token=\"\""
   ]
  },
  {
   "cell_type": "code",
   "execution_count": null,
   "id": "a8400f22",
   "metadata": {},
   "outputs": [],
   "source": []
  }
 ],
 "metadata": {
  "kernelspec": {
   "display_name": "base",
   "language": "python",
   "name": "python3"
  },
  "language_info": {
   "codemirror_mode": {
    "name": "ipython",
    "version": 3
   },
   "file_extension": ".py",
   "mimetype": "text/x-python",
   "name": "python",
   "nbconvert_exporter": "python",
   "pygments_lexer": "ipython3",
   "version": "3.13.5"
  }
 },
 "nbformat": 4,
 "nbformat_minor": 5
}
