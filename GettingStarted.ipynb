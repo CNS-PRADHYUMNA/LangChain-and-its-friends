{
 "cells": [
  {
   "cell_type": "code",
   "execution_count": null,
   "id": "43e18921",
   "metadata": {},
   "outputs": [],
   "source": [
    "#get setup with langchain langsmith langserve\n",
    "# Use the most basic and common components of langchain prompt templates, models, and op parsers\n",
    "# to create a simple application with langchain, trace your app with langsmith, and serve it with langserve."
   ]
  },
  {
   "cell_type": "code",
   "execution_count": null,
   "id": "cf92fc57",
   "metadata": {},
   "outputs": [],
   "source": []
  }
 ],
 "metadata": {
  "kernelspec": {
   "display_name": "base",
   "language": "python",
   "name": "python3"
  },
  "language_info": {
   "name": "python",
   "version": "3.13.5"
  }
 },
 "nbformat": 4,
 "nbformat_minor": 5
}
