{
 "cells": [
  {
   "cell_type": "code",
   "execution_count": 155,
   "id": "a86ec63e",
   "metadata": {},
   "outputs": [],
   "source": [
    "import os\n",
    "from dotenv import load_dotenv\n",
    "\n",
    "load_dotenv()\n",
    "GROK_API_KEY= os.getenv(\"GROK_API_KEY\")\n",
    "NEO4J_URI= os.getenv(\"NEO4J_URI\")\n",
    "NEO4J_USER= os.getenv(\"NEO4J_USER\")\n",
    "NEO4J_PASSWORD= os.getenv(\"NEO4J_PASSWORD\")\n"
   ]
  },
  {
   "cell_type": "code",
   "execution_count": 156,
   "id": "e8218b67",
   "metadata": {},
   "outputs": [
    {
     "data": {
      "text/plain": [
       "<langchain_community.graphs.neo4j_graph.Neo4jGraph at 0x1a3842b3620>"
      ]
     },
     "execution_count": 156,
     "metadata": {},
     "output_type": "execute_result"
    }
   ],
   "source": [
    "from langchain_community.graphs import Neo4jGraph\n",
    "\n",
    "graph = Neo4jGraph(url=NEO4J_URI, username=NEO4J_USER, password=NEO4J_PASSWORD,refresh_schema=False)\n",
    "\n",
    "# Run a simple query to test the connection\n",
    "graph"
   ]
  },
  {
   "cell_type": "code",
   "execution_count": 157,
   "id": "f8c5566e",
   "metadata": {},
   "outputs": [],
   "source": [
    "movie_Query = \"\"\"\n",
    "LOAD CSV WITH HEADERS FROM\n",
    "'https://raw.githubusercontent.com/tomasonjo/blog-datasets/main/movies/movies_small.csv' AS row\n",
    "\n",
    "MERGE (m:Movie {id: row.movieId})\n",
    "SET m.title = row.title,\n",
    "    m.released = date(row.released),\n",
    "    m.imdbRating = toFloat(row.imdbRating)\n",
    "\n",
    "FOREACH (director IN split(row.director, '|') |\n",
    "  MERGE (p:Person {name: trim(director)})\n",
    "  MERGE (p)-[:DIRECTED]->(m)\n",
    ")\n",
    "\n",
    "FOREACH (actor IN split(row.actors, '|') |\n",
    "  MERGE (p:Person {name: trim(actor)})\n",
    "  MERGE (p)-[:ACTED_IN]->(m)\n",
    ")\n",
    "\n",
    "FOREACH (genre IN split(row.genres, '|') |\n",
    "  MERGE (g:Genre {name: trim(genre)})\n",
    "  MERGE (m)-[:IN_GENRE]->(g)\n",
    ")\n",
    "\"\"\"\n"
   ]
  },
  {
   "cell_type": "code",
   "execution_count": 158,
   "id": "919e617a",
   "metadata": {},
   "outputs": [],
   "source": [
    "def safe_query(self, query, params=None):\n",
    "    with self._driver.session(database=self._database) as session:\n",
    "        result = session.run(query, params or {})\n",
    "        return [r.data() for r in result]\n",
    "    \n",
    "Neo4jGraph.query = safe_query"
   ]
  },
  {
   "cell_type": "code",
   "execution_count": 159,
   "id": "61e72d8e",
   "metadata": {},
   "outputs": [
    {
     "data": {
      "text/plain": [
       "[]"
      ]
     },
     "execution_count": 159,
     "metadata": {},
     "output_type": "execute_result"
    }
   ],
   "source": [
    "graph.query(movie_Query)"
   ]
  },
  {
   "cell_type": "code",
   "execution_count": 160,
   "id": "ec167f98",
   "metadata": {},
   "outputs": [
    {
     "name": "stdout",
     "output_type": "stream",
     "text": [
      "Node properties:\n",
      "Movie {id: STRING, title: STRING, released: DATE, imdbRating: FLOAT}\n",
      "Person {name: STRING}\n",
      "Genre {name: STRING}\n",
      "Relationship properties:\n",
      "\n",
      "The relationships:\n",
      "(:Movie)-[:IN_GENRE]->(:Genre)\n",
      "(:Person)-[:DIRECTED]->(:Movie)\n",
      "(:Person)-[:ACTED_IN]->(:Movie)\n"
     ]
    }
   ],
   "source": [
    "graph.refresh_schema()\n",
    "print(graph.schema)"
   ]
  },
  {
   "cell_type": "code",
   "execution_count": 161,
   "id": "f6707505",
   "metadata": {},
   "outputs": [],
   "source": [
    "from langchain_groq import ChatGroq\n",
    "\n",
    "model=ChatGroq(model=\"gemma2-9b-it\", api_key=GROK_API_KEY)"
   ]
  },
  {
   "cell_type": "code",
   "execution_count": 199,
   "id": "196d37f2",
   "metadata": {},
   "outputs": [],
   "source": [
    "from langchain_core.prompts import PromptTemplate\n",
    "\n",
    "# --- Schema string ---\n",
    "schema = (\n",
    "    \"Labels: Person, Movie, Genre\\n\"\n",
    "    \"Relationships:\\n\"\n",
    "    \"  (Person)-[:ACTED_IN]->(Movie)\\n\"\n",
    "    \"  (Person)-[:DIRECTED]->(Movie)\\n\"\n",
    "    \"  (Movie)-[:IN_GENRE]->(Genre)\\n\"\n",
    "    \"Properties: Movie.title (string), Movie.imdbRating (float), \"\n",
    "    \"Movie.released (date), Person.name (string)\\n\"\n",
    ")\n",
    "\n",
    "# --- Prompt template ---\n",
    "prompt = PromptTemplate(\n",
    "    input_variables=[\"question\", \"schema\"],\n",
    "    template=(\n",
    "        \"Schema:\\n{schema}\\n\\n\"\n",
    "        \"Write a Cypher query for the question below.\\n\\n\"\n",
    "        \"Rules:\\n\"\n",
    "        \"- Use labels exactly: Person, Movie, Genre.\\n\"\n",
    "        \"- Use relationships exactly with correct directions:\\n\"\n",
    "        \"    (Person)-[:ACTED_IN]->(Movie)\\n\"\n",
    "        \"    (Person)-[:DIRECTED]->(Movie)\\n\"\n",
    "        \"    (Movie)-[:IN_GENRE]->(Genre)\\n\"\n",
    "        \"- Put relationship patterns in MATCH, not in WHERE.\\n\"\n",
    "        \"- Use WHERE only for scalar comparisons.\\n\"\n",
    "        \"- Always alias returned values.\\n\"\n",
    "        \"- Alias aggregates (e.g. count(m) AS cnt).\\n\"\n",
    "        \"- Do not invent labels, properties, or relationships.\\n\\n\"\n",
    "        \"Q: {question}\\nCypher:\"\n",
    "    )\n",
    ")\n"
   ]
  },
  {
   "cell_type": "code",
   "execution_count": 200,
   "id": "7b11fce8",
   "metadata": {},
   "outputs": [
    {
     "data": {
      "text/plain": [
       "PromptTemplate(input_variables=['question', 'schema'], input_types={}, partial_variables={}, template='Schema:\\n{schema}\\n\\nWrite a Cypher query for the question below.\\n\\nRules:\\n- Use labels exactly: Person, Movie, Genre.\\n- Use relationships exactly with correct directions:\\n    (Person)-[:ACTED_IN]->(Movie)\\n    (Person)-[:DIRECTED]->(Movie)\\n    (Movie)-[:IN_GENRE]->(Genre)\\n- Put relationship patterns in MATCH, not in WHERE.\\n- Use WHERE only for scalar comparisons.\\n- Always alias returned values.\\n- Alias aggregates (e.g. count(m) AS cnt).\\n- Do not invent labels, properties, or relationships.\\n\\nQ: {question}\\nCypher:')"
      ]
     },
     "execution_count": 200,
     "metadata": {},
     "output_type": "execute_result"
    }
   ],
   "source": [
    "prompt"
   ]
  },
  {
   "cell_type": "code",
   "execution_count": 201,
   "id": "5a23788f",
   "metadata": {},
   "outputs": [
    {
     "name": "stdout",
     "output_type": "stream",
     "text": [
      "Schema:\n",
      "Labels: Person, Movie, Genre\n",
      "Relationships:\n",
      "  (Person)-[:ACTED_IN]->(Movie)\n",
      "  (Person)-[:DIRECTED]->(Movie)\n",
      "  (Movie)-[:IN_GENRE]->(Genre)\n",
      "Properties: Movie.title (string), Movie.imdbRating (float), Movie.released (date), Person.name (string)\n",
      "\n",
      "\n",
      "Write a Cypher query for the question below.\n",
      "\n",
      "Rules:\n",
      "- Use labels exactly: Person, Movie, Genre.\n",
      "- Use relationships exactly with correct directions:\n",
      "    (Person)-[:ACTED_IN]->(Movie)\n",
      "    (Person)-[:DIRECTED]->(Movie)\n",
      "    (Movie)-[:IN_GENRE]->(Genre)\n",
      "- Put relationship patterns in MATCH, not in WHERE.\n",
      "- Use WHERE only for scalar comparisons.\n",
      "- Always alias returned values.\n",
      "- Alias aggregates (e.g. count(m) AS cnt).\n",
      "- Do not invent labels, properties, or relationships.\n",
      "\n",
      "Q: How many artists are there?\n",
      "Cypher:\n"
     ]
    }
   ],
   "source": [
    "print(prompt.format(question=\"How many artists are there?\", schema=schema))"
   ]
  },
  {
   "cell_type": "code",
   "execution_count": 202,
   "id": "b8ae3c50",
   "metadata": {},
   "outputs": [
    {
     "data": {
      "text/plain": [
       "GraphCypherQAChain(verbose=True, graph=<langchain_community.graphs.neo4j_graph.Neo4jGraph object at 0x000001A3842B3620>, cypher_generation_chain=LLMChain(verbose=False, prompt=PromptTemplate(input_variables=['question', 'schema'], input_types={}, partial_variables={}, template='Schema:\\n{schema}\\n\\nWrite a Cypher query for the question below.\\n\\nRules:\\n- Use labels exactly: Person, Movie, Genre.\\n- Use relationships exactly with correct directions:\\n    (Person)-[:ACTED_IN]->(Movie)\\n    (Person)-[:DIRECTED]->(Movie)\\n    (Movie)-[:IN_GENRE]->(Genre)\\n- Put relationship patterns in MATCH, not in WHERE.\\n- Use WHERE only for scalar comparisons.\\n- Always alias returned values.\\n- Alias aggregates (e.g. count(m) AS cnt).\\n- Do not invent labels, properties, or relationships.\\n\\nQ: {question}\\nCypher:'), llm=ChatGroq(client=<groq.resources.chat.completions.Completions object at 0x000001A38496DE80>, async_client=<groq.resources.chat.completions.AsyncCompletions object at 0x000001A3844A3020>, model_name='gemma2-9b-it', model_kwargs={}, groq_api_key=SecretStr('**********')), output_parser=StrOutputParser(), llm_kwargs={}), qa_chain=LLMChain(verbose=False, prompt=PromptTemplate(input_variables=['context', 'question'], input_types={}, partial_variables={}, template=\"You are an assistant that helps to form nice and human understandable answers.\\nThe information part contains the provided information that you must use to construct an answer.\\nThe provided information is authoritative, you must never doubt it or try to use your internal knowledge to correct it.\\nMake the answer sound as a response to the question. Do not mention that you based the result on the given information.\\nHere is an example:\\n\\nQuestion: Which managers own Neo4j stocks?\\nContext:[manager:CTL LLC, manager:JANE STREET GROUP LLC]\\nHelpful Answer: CTL LLC, JANE STREET GROUP LLC owns Neo4j stocks.\\n\\nFollow this example when generating answers.\\nIf the provided information is empty, say that you don't know the answer.\\nInformation:\\n{context}\\n\\nQuestion: {question}\\nHelpful Answer:\"), llm=ChatGroq(client=<groq.resources.chat.completions.Completions object at 0x000001A38496DE80>, async_client=<groq.resources.chat.completions.AsyncCompletions object at 0x000001A3844A3020>, model_name='gemma2-9b-it', model_kwargs={}, groq_api_key=SecretStr('**********')), output_parser=StrOutputParser(), llm_kwargs={}), graph_schema='Node properties are the following:\\nMovie {id: STRING, title: STRING, released: DATE, imdbRating: FLOAT},Person {name: STRING},Genre {name: STRING}\\nRelationship properties are the following:\\n\\nThe relationships are the following:\\n(:Movie)-[:IN_GENRE]->(:Genre),(:Person)-[:DIRECTED]->(:Movie),(:Person)-[:ACTED_IN]->(:Movie)', allow_dangerous_requests=True)"
      ]
     },
     "execution_count": 202,
     "metadata": {},
     "output_type": "execute_result"
    }
   ],
   "source": [
    "\n",
    "from langchain.chains import GraphCypherQAChain\n",
    "\n",
    "chain = GraphCypherQAChain.from_llm( graph=graph, llm=model,verbose=True,allow_dangerous_requests=True,cypher_prompt=prompt)\n",
    "\n",
    "chain"
   ]
  },
  {
   "cell_type": "code",
   "execution_count": 212,
   "id": "11954e94",
   "metadata": {},
   "outputs": [
    {
     "name": "stdout",
     "output_type": "stream",
     "text": [
      "\n",
      "\n",
      "\u001b[1m> Entering new GraphCypherQAChain chain...\u001b[0m\n",
      "Generated Cypher:\n",
      "\u001b[32;1m\u001b[1;3mcypher\n",
      "MATCH (p:Person)\n",
      "RETURN count(p) AS artistCount \n",
      "\u001b[0m\n",
      "Full Context:\n",
      "\u001b[32;1m\u001b[1;3m[{'artistCount': 1239}]\u001b[0m\n",
      "\n",
      "\u001b[1m> Finished chain.\u001b[0m\n"
     ]
    },
    {
     "data": {
      "text/plain": [
       "'There are 1239 artists. \\n'"
      ]
     },
     "execution_count": 212,
     "metadata": {},
     "output_type": "execute_result"
    }
   ],
   "source": [
    "chain.run({\"query\": \"How many artists are there?\", \"schema\": schema})"
   ]
  },
  {
   "cell_type": "code",
   "execution_count": 213,
   "id": "46c34f63",
   "metadata": {},
   "outputs": [
    {
     "name": "stdout",
     "output_type": "stream",
     "text": [
      "\n",
      "\n",
      "\u001b[1m> Entering new GraphCypherQAChain chain...\u001b[0m\n",
      "Generated Cypher:\n",
      "\u001b[32;1m\u001b[1;3mcypher\n",
      "MATCH (m:Movie)\n",
      "RETURN count(m) AS movieCount\n",
      "\u001b[0m\n",
      "Full Context:\n",
      "\u001b[32;1m\u001b[1;3m[{'movieCount': 299}]\u001b[0m\n",
      "\n",
      "\u001b[1m> Finished chain.\u001b[0m\n",
      "Q: How many movies are there?\n",
      "There are 299 movies. \n",
      "\n",
      "\n",
      "\n",
      "\u001b[1m> Entering new GraphCypherQAChain chain...\u001b[0m\n",
      "Generated Cypher:\n",
      "\u001b[32;1m\u001b[1;3mcypher\n",
      "MATCH (p:Person)-[:ACTED_IN]->(m:Movie {title: 'Casino'}) \n",
      "RETURN DISTINCT p.name AS actor\n",
      "\u001b[0m\n",
      "Full Context:\n",
      "\u001b[32;1m\u001b[1;3m[{'actor': 'Robert De Niro'}, {'actor': 'Joe Pesci'}, {'actor': 'Sharon Stone'}, {'actor': 'James Woods'}]\u001b[0m\n",
      "\n",
      "\u001b[1m> Finished chain.\u001b[0m\n",
      "Q: List all actors who played in 'Casino'.\n",
      "Robert De Niro, Joe Pesci, Sharon Stone, and James Woods. \n",
      "\n",
      "\n",
      "\n",
      "\u001b[1m> Entering new GraphCypherQAChain chain...\u001b[0m\n",
      "Generated Cypher:\n",
      "\u001b[32;1m\u001b[1;3mcypher\n",
      "MATCH (p:Person {name:\"Tom Hanks\"})-[:ACTED_IN]->(m:Movie)\n",
      "RETURN m.title AS movie_title \n",
      "\u001b[0m\n",
      "Full Context:\n",
      "\u001b[32;1m\u001b[1;3m[{'movie_title': 'Toy Story'}, {'movie_title': 'Apollo 13'}]\u001b[0m\n",
      "\n",
      "\u001b[1m> Finished chain.\u001b[0m\n",
      "Q: Which movies did Tom Hanks act in?\n",
      "Toy Story, Apollo 13 \n",
      "\n",
      "\n",
      "\n",
      "\u001b[1m> Entering new GraphCypherQAChain chain...\u001b[0m\n",
      "Generated Cypher:\n",
      "\u001b[32;1m\u001b[1;3mcypher\n",
      "MATCH (p:Person)-[:DIRECTED]->(m:Movie {title: 'Toy Story'})\n",
      "RETURN p.name AS directorName\n",
      "\u001b[0m\n",
      "Full Context:\n",
      "\u001b[32;1m\u001b[1;3m[{'directorName': 'John Lasseter'}]\u001b[0m\n",
      "\n",
      "\u001b[1m> Finished chain.\u001b[0m\n",
      "Q: Who directed 'Toy Story'?\n",
      "John Lasseter directed 'Toy Story'. \n",
      "\n",
      "\n",
      "\n",
      "\u001b[1m> Entering new GraphCypherQAChain chain...\u001b[0m\n",
      "Generated Cypher:\n",
      "\u001b[32;1m\u001b[1;3mcypher\n",
      "MATCH (m:Movie {title: 'Jumanji'})-[r:IN_GENRE]->(g:Genre)\n",
      "RETURN g.name AS genreName\n",
      "\u001b[0m\n",
      "Full Context:\n",
      "\u001b[32;1m\u001b[1;3m[{'genreName': 'Adventure'}, {'genreName': 'Children'}, {'genreName': 'Fantasy'}]\u001b[0m\n",
      "\n",
      "\u001b[1m> Finished chain.\u001b[0m\n",
      "Q: List all genres of the movie 'Jumanji'.\n",
      "Adventure, Children, Fantasy \n",
      "\n"
     ]
    }
   ],
   "source": [
    "# --- Test queries ---\n",
    "q = [\n",
    "    \"How many movies are there?\",\n",
    "    \"List all actors who played in 'Casino'.\",\n",
    "    \"Which movies did Tom Hanks act in?\",\n",
    "    \"Who directed 'Toy Story'?\",\n",
    "    \"List all genres of the movie 'Jumanji'.\"\n",
    "]\n",
    "\n",
    "\n",
    "\n",
    "# --- Run queries ---\n",
    "for query in q:\n",
    "\n",
    "    result = chain.run({\"query\": query, \"schema\": schema})\n",
    "    print(\"Q: \" + query)\n",
    "    print(result)\n"
   ]
  },
  {
   "cell_type": "code",
   "execution_count": 215,
   "id": "e7355494",
   "metadata": {},
   "outputs": [
    {
     "name": "stdout",
     "output_type": "stream",
     "text": [
      "\n",
      "\n",
      "\u001b[1m> Entering new GraphCypherQAChain chain...\u001b[0m\n",
      "Generated Cypher:\n",
      "\u001b[32;1m\u001b[1;3mcypher\n",
      "MATCH (m:Movie)-[:IN_GENRE]->(g:Genre {name: 'Comedy'})\n",
      "WHERE m.imdbRating > 8\n",
      "RETURN m.title AS movie_title\n",
      "\u001b[0m\n",
      "Full Context:\n",
      "\u001b[32;1m\u001b[1;3m[{'movie_title': 'Toy Story'}, {'movie_title': 'Pulp Fiction'}]\u001b[0m\n",
      "\n",
      "\u001b[1m> Finished chain.\u001b[0m\n"
     ]
    }
   ],
   "source": [
    "result = chain.run({\"query\": \"List all the movies which have a rating greater than 8 and genre Comedy.\", \"schema\": schema})"
   ]
  },
  {
   "cell_type": "code",
   "execution_count": 216,
   "id": "e02ad78e",
   "metadata": {},
   "outputs": [
    {
     "name": "stdout",
     "output_type": "stream",
     "text": [
      "\n",
      "\n",
      "\u001b[1m> Entering new GraphCypherQAChain chain...\u001b[0m\n",
      "Generated Cypher:\n",
      "\u001b[32;1m\u001b[1;3mcypher\n",
      "MATCH (m:Movie)-[:IN_GENRE]->(g:Genre {name: 'Comedy'})\n",
      "RETURN m.title AS movieTitle\n",
      "\u001b[0m\n",
      "Full Context:\n",
      "\u001b[32;1m\u001b[1;3m[{'movieTitle': 'Toy Story'}, {'movieTitle': 'Grumpier Old Men'}, {'movieTitle': 'Waiting to Exhale'}, {'movieTitle': 'Father of the Bride Part II'}, {'movieTitle': 'Sabrina'}, {'movieTitle': 'American President, The'}, {'movieTitle': 'Dracula: Dead and Loving It'}, {'movieTitle': 'Four Rooms'}, {'movieTitle': 'Ace Ventura: When Nature Calls'}, {'movieTitle': 'Money Train'}]\u001b[0m\n",
      "\n",
      "\u001b[1m> Finished chain.\u001b[0m\n"
     ]
    }
   ],
   "source": [
    "result = chain.run({\"query\": \"List all the movies which have the genre Comedy.\", \"schema\": schema})"
   ]
  }
 ],
 "metadata": {
  "kernelspec": {
   "display_name": "venv",
   "language": "python",
   "name": "python3"
  },
  "language_info": {
   "codemirror_mode": {
    "name": "ipython",
    "version": 3
   },
   "file_extension": ".py",
   "mimetype": "text/x-python",
   "name": "python",
   "nbconvert_exporter": "python",
   "pygments_lexer": "ipython3",
   "version": "3.12.0"
  }
 },
 "nbformat": 4,
 "nbformat_minor": 5
}
